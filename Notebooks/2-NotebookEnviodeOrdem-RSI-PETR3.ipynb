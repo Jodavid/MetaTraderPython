{
 "cells": [
  {
   "cell_type": "code",
   "execution_count": 266,
   "metadata": {},
   "outputs": [],
   "source": [
    "# Notebook criado para o desenvolvimento de envio de ordem do ativo PETR3\n",
    "#\n",
    "# Objetivo: Conexao com o MetaTrader 5, e envio de ordem baseados em indicadores\n",
    "#            exemplo utilizado com o ativo PETR3"
   ]
  },
  {
   "cell_type": "code",
   "execution_count": 293,
   "metadata": {},
   "outputs": [],
   "source": [
    "# Lendo as bibliotecas necessarias\n",
    "import pandas as pd\n",
    "import numpy as np\n",
    "import datetime\n",
    "from datetime import datetime\n",
    "from datetime import date\n",
    "import MetaTrader5 as mt5\n",
    "import time\n",
    "# Funcoes para ordem de compra e venda\n",
    "import sys\n",
    "sys.path.append('../src/')\n",
    "from funcoes_compra_e_venda import compra_limitada#, venda_limitada\n",
    "from funcoes_dos_indicadores import decisao_RSI"
   ]
  },
  {
   "cell_type": "code",
   "execution_count": 268,
   "metadata": {},
   "outputs": [
    {
     "name": "stdout",
     "output_type": "stream",
     "text": [
      "TerminalInfo(community_account=True, community_connection=True, connected=True, dlls_allowed=True, trade_allowed=True, tradeapi_disabled=False, email_enabled=False, ftp_enabled=False, notifications_enabled=True, mqid=True, build=3302, maxbars=100000, codepage=1252, ping_last=239642, community_balance=0.0, retransmission=0.0, company='MetaQuotes Software Corp.', name='MetaTrader 5', language='Portuguese (Brazil)', path='C:\\\\Program Files\\\\MetaTrader 5', ...)\n",
      "(500, 3302, '24 May 2022')\n"
     ]
    }
   ],
   "source": [
    "# Conectando ao MetaTrader 5\n",
    "# Utilizando os logins atuais do Software\n",
    "if not mt5.initialize():\n",
    "    print(\"initialize() falhou\")\n",
    "    mt5.shutdown()\n",
    "# Consultamos o estado e os parâmetros de conexão\n",
    "print(mt5.terminal_info())\n",
    "# Obtemos informações sobre a versão do MetaTrader 5\n",
    "print(mt5.version())"
   ]
  },
  {
   "cell_type": "code",
   "execution_count": 269,
   "metadata": {},
   "outputs": [],
   "source": [
    "# Volume - Se não for múltiplo de 100, usar o ativo fracionado no simbolo\n",
    "lote = 0.01 #100\n",
    "# Simbolo selecionado para grafico\n",
    "simbolo = \"USDSEK\" #\"PETR3F\""
   ]
  },
  {
   "cell_type": "code",
   "execution_count": 270,
   "metadata": {},
   "outputs": [],
   "source": [
    "# Obtendo as informacoes do ativo de tamanho 1000, considerando a data de hoje e o Timframe de H1 = 1 hora;\n",
    "ValoresAtivo = mt5.copy_rates_from_pos(simbolo, mt5.TIMEFRAME_H1, 0, 1000)\n",
    "ValoresAtivo_PD = pd.DataFrame(ValoresAtivo) # Conversao em pandas\n",
    "ValoresAtivo_PD['time'] = pd.to_datetime(ValoresAtivo_PD['time'], unit='s')"
   ]
  },
  {
   "cell_type": "code",
   "execution_count": 296,
   "metadata": {},
   "outputs": [
    {
     "data": {
      "text/html": [
       "<div>\n",
       "<style scoped>\n",
       "    .dataframe tbody tr th:only-of-type {\n",
       "        vertical-align: middle;\n",
       "    }\n",
       "\n",
       "    .dataframe tbody tr th {\n",
       "        vertical-align: top;\n",
       "    }\n",
       "\n",
       "    .dataframe thead th {\n",
       "        text-align: right;\n",
       "    }\n",
       "</style>\n",
       "<table border=\"1\" class=\"dataframe\">\n",
       "  <thead>\n",
       "    <tr style=\"text-align: right;\">\n",
       "      <th></th>\n",
       "      <th>time</th>\n",
       "      <th>open</th>\n",
       "      <th>high</th>\n",
       "      <th>low</th>\n",
       "      <th>close</th>\n",
       "      <th>tick_volume</th>\n",
       "      <th>spread</th>\n",
       "      <th>real_volume</th>\n",
       "    </tr>\n",
       "  </thead>\n",
       "  <tbody>\n",
       "    <tr>\n",
       "      <th>999</th>\n",
       "      <td>2022-05-25 04:00:00</td>\n",
       "      <td>9.76755</td>\n",
       "      <td>9.77769</td>\n",
       "      <td>9.76643</td>\n",
       "      <td>9.77328</td>\n",
       "      <td>1540</td>\n",
       "      <td>949</td>\n",
       "      <td>0</td>\n",
       "    </tr>\n",
       "  </tbody>\n",
       "</table>\n",
       "</div>"
      ],
      "text/plain": [
       "                   time     open     high      low    close  tick_volume  \\\n",
       "999 2022-05-25 04:00:00  9.76755  9.77769  9.76643  9.77328         1540   \n",
       "\n",
       "     spread  real_volume  \n",
       "999     949            0  "
      ]
     },
     "execution_count": 296,
     "metadata": {},
     "output_type": "execute_result"
    }
   ],
   "source": [
    "# Verificando um o tail() dos valores\n",
    "ValoresAtivo_PD.tail()"
   ]
  },
  {
   "cell_type": "code",
   "execution_count": 289,
   "metadata": {},
   "outputs": [],
   "source": [
    "# Processando o Sinal\n",
    "# Calculando o RSI, com 14 periodos, como parametro de entrada o valor de \"close\"\n",
    "close = np.array(ValoresAtivo_PD['close'])\n",
    "last_element3 = close[-1]\n",
    "last_price = last_element3"
   ]
  },
  {
   "cell_type": "code",
   "execution_count": 273,
   "metadata": {},
   "outputs": [],
   "source": [
    "\n",
    "# --------------------------------------------------\n",
    "# Selecionando o último valor do preço venda\n",
    "price = mt5.symbol_info_tick(simbolo).ask"
   ]
  },
  {
   "cell_type": "code",
   "execution_count": 274,
   "metadata": {},
   "outputs": [],
   "source": [
    "# Estudar IC para sugerir como TP e SL"
   ]
  },
  {
   "cell_type": "code",
   "execution_count": 295,
   "metadata": {},
   "outputs": [
    {
     "data": {
      "text/plain": [
       "'NADA'"
      ]
     },
     "execution_count": 295,
     "metadata": {},
     "output_type": "execute_result"
    }
   ],
   "source": [
    "# Encontrando a decisão\n",
    "decisao = decisao_RSI(close, Periodo = 14)"
   ]
  },
  {
   "cell_type": "code",
   "execution_count": null,
   "metadata": {},
   "outputs": [],
   "source": [
    "# Tomada de decisao e envio de ordem\n",
    "if decisao == \"COMPRAR\":\n",
    "    StopLoss = price - 0.02\n",
    "    TakeProfit = price + 0.05\n",
    "    retorno = compra_limitada(simbolo, lote, price, StopLoss, TakeProfit)\n",
    "    print(retorno)\n",
    "elif decisao == \"VENDER\":\n",
    "    StopLoss = price + 0.02\n",
    "    TakeProfit = price - 0.05\n",
    "    retorno = venda_limitada(simbolo, lote, price, StopLoss, TakeProfit)\n",
    "    print(retorno)\n",
    "else:\n",
    "    print('Aguardando o sinal do Mercado')\n"
   ]
  }
 ],
 "metadata": {
  "interpreter": {
   "hash": "4694ae3a9d7dbaf98853dea745ff6957091f9b44ba85ef18dd502da0e0c67bb3"
  },
  "kernelspec": {
   "display_name": "Python 3.7.10 ('base')",
   "language": "python",
   "name": "python3"
  },
  "language_info": {
   "codemirror_mode": {
    "name": "ipython",
    "version": 3
   },
   "file_extension": ".py",
   "mimetype": "text/x-python",
   "name": "python",
   "nbconvert_exporter": "python",
   "pygments_lexer": "ipython3",
   "version": "3.7.10"
  },
  "orig_nbformat": 4
 },
 "nbformat": 4,
 "nbformat_minor": 2
}
