{
 "cells": [
  {
   "cell_type": "code",
   "execution_count": null,
   "metadata": {},
   "outputs": [],
   "source": [
    "# Notebook criado para o desenvolvimento de envio de ordem do ativo PETR3\n",
    "#\n",
    "# Objetivo: Conexao com o MetaTrader 5, e envio de ordem baseados em indicadores\n",
    "#            exemplo utilizado com o ativo PETR3"
   ]
  },
  {
   "cell_type": "code",
   "execution_count": 1,
   "metadata": {},
   "outputs": [],
   "source": [
    "# Lendo as bibliotecas necessarias\n",
    "import pandas as pd\n",
    "import numpy as np\n",
    "import datetime\n",
    "from datetime import datetime\n",
    "from datetime import date\n",
    "import MetaTrader5 as mt5\n",
    "import time\n",
    "# Biblioteca para indicadores tecnicos\n",
    "import talib\n",
    "from talib import RSI, EMA"
   ]
  },
  {
   "cell_type": "code",
   "execution_count": 2,
   "metadata": {},
   "outputs": [
    {
     "name": "stdout",
     "output_type": "stream",
     "text": [
      "TerminalInfo(community_account=False, community_connection=False, connected=True, dlls_allowed=True, trade_allowed=False, tradeapi_disabled=False, email_enabled=False, ftp_enabled=False, notifications_enabled=True, mqid=True, build=3300, maxbars=100000, codepage=1252, ping_last=71962, community_balance=0.0, retransmission=0.0, company='MetaQuotes Software Corp.', name='MetaTrader 5', language='Portuguese (Brazil)', path='C:\\\\Program Files\\\\MetaTrader 5', ...)\n",
      "(500, 3300, '20 May 2022')\n"
     ]
    }
   ],
   "source": [
    "# Conectando ao MetaTrader 5\n",
    "# Utilizando os logins atuais do Software\n",
    "if not mt5.initialize():\n",
    "    print(\"initialize() falhou\")\n",
    "    mt5.shutdown()\n",
    "# Consultamos o estado e os parâmetros de conexão\n",
    "print(mt5.terminal_info())\n",
    "# Obtemos informações sobre a versão do MetaTrader 5\n",
    "print(mt5.version())"
   ]
  },
  {
   "cell_type": "code",
   "execution_count": 14,
   "metadata": {},
   "outputs": [],
   "source": [
    "# Volume - Se não for múltiplo de 100, usar o ativo fracionado no simbolo\n",
    "lote = 1\n",
    "# Simbolo selecionado para grafico\n",
    "simbolo = \"PETR3F\""
   ]
  },
  {
   "cell_type": "code",
   "execution_count": 15,
   "metadata": {},
   "outputs": [],
   "source": [
    "# Obtendo as informacoes do ativo de tamanho 1000, considerando a data de hoje e o Timframe de H1 = 1 hora;\n",
    "ValoresAtivo = mt5.copy_rates_from_pos(simbolo, mt5.TIMEFRAME_H1, 0, 1000)\n",
    "ValoresAtivo_PD = pd.DataFrame(ValoresAtivo) # Conversao em pandas\n",
    "ValoresAtivo_PD['time'] = pd.to_datetime(ValoresAtivo_PD['time'], unit='s')"
   ]
  },
  {
   "cell_type": "code",
   "execution_count": 16,
   "metadata": {},
   "outputs": [
    {
     "data": {
      "text/html": [
       "<div>\n",
       "<style scoped>\n",
       "    .dataframe tbody tr th:only-of-type {\n",
       "        vertical-align: middle;\n",
       "    }\n",
       "\n",
       "    .dataframe tbody tr th {\n",
       "        vertical-align: top;\n",
       "    }\n",
       "\n",
       "    .dataframe thead th {\n",
       "        text-align: right;\n",
       "    }\n",
       "</style>\n",
       "<table border=\"1\" class=\"dataframe\">\n",
       "  <thead>\n",
       "    <tr style=\"text-align: right;\">\n",
       "      <th></th>\n",
       "      <th>time</th>\n",
       "      <th>open</th>\n",
       "      <th>high</th>\n",
       "      <th>low</th>\n",
       "      <th>close</th>\n",
       "      <th>tick_volume</th>\n",
       "      <th>spread</th>\n",
       "      <th>real_volume</th>\n",
       "    </tr>\n",
       "  </thead>\n",
       "  <tbody>\n",
       "    <tr>\n",
       "      <th>995</th>\n",
       "      <td>2022-05-23 13:00:00</td>\n",
       "      <td>38.57</td>\n",
       "      <td>38.63</td>\n",
       "      <td>38.47</td>\n",
       "      <td>38.61</td>\n",
       "      <td>315</td>\n",
       "      <td>1</td>\n",
       "      <td>2243</td>\n",
       "    </tr>\n",
       "    <tr>\n",
       "      <th>996</th>\n",
       "      <td>2022-05-23 14:00:00</td>\n",
       "      <td>38.63</td>\n",
       "      <td>38.85</td>\n",
       "      <td>38.56</td>\n",
       "      <td>38.85</td>\n",
       "      <td>322</td>\n",
       "      <td>1</td>\n",
       "      <td>2884</td>\n",
       "    </tr>\n",
       "    <tr>\n",
       "      <th>997</th>\n",
       "      <td>2022-05-23 15:00:00</td>\n",
       "      <td>38.81</td>\n",
       "      <td>39.10</td>\n",
       "      <td>38.81</td>\n",
       "      <td>39.04</td>\n",
       "      <td>332</td>\n",
       "      <td>1</td>\n",
       "      <td>3095</td>\n",
       "    </tr>\n",
       "    <tr>\n",
       "      <th>998</th>\n",
       "      <td>2022-05-23 16:00:00</td>\n",
       "      <td>39.09</td>\n",
       "      <td>39.27</td>\n",
       "      <td>38.95</td>\n",
       "      <td>39.16</td>\n",
       "      <td>477</td>\n",
       "      <td>1</td>\n",
       "      <td>3774</td>\n",
       "    </tr>\n",
       "    <tr>\n",
       "      <th>999</th>\n",
       "      <td>2022-05-23 17:00:00</td>\n",
       "      <td>38.62</td>\n",
       "      <td>39.25</td>\n",
       "      <td>38.62</td>\n",
       "      <td>39.02</td>\n",
       "      <td>97</td>\n",
       "      <td>0</td>\n",
       "      <td>1541</td>\n",
       "    </tr>\n",
       "  </tbody>\n",
       "</table>\n",
       "</div>"
      ],
      "text/plain": [
       "                   time   open   high    low  close  tick_volume  spread  \\\n",
       "995 2022-05-23 13:00:00  38.57  38.63  38.47  38.61          315       1   \n",
       "996 2022-05-23 14:00:00  38.63  38.85  38.56  38.85          322       1   \n",
       "997 2022-05-23 15:00:00  38.81  39.10  38.81  39.04          332       1   \n",
       "998 2022-05-23 16:00:00  39.09  39.27  38.95  39.16          477       1   \n",
       "999 2022-05-23 17:00:00  38.62  39.25  38.62  39.02           97       0   \n",
       "\n",
       "     real_volume  \n",
       "995         2243  \n",
       "996         2884  \n",
       "997         3095  \n",
       "998         3774  \n",
       "999         1541  "
      ]
     },
     "execution_count": 16,
     "metadata": {},
     "output_type": "execute_result"
    }
   ],
   "source": [
    "# Verificando um o tail() dos valores\n",
    "ValoresAtivo_PD.tail()"
   ]
  },
  {
   "cell_type": "code",
   "execution_count": 17,
   "metadata": {},
   "outputs": [],
   "source": [
    "# Processando o Sinal\n",
    "# Calculando o RSI, com 14 periodos, como parametro de entrada o valor de \"close\"\n",
    "close = np.array(ValoresAtivo_PD['close'])\n",
    "rsi_ind = RSI(close, timeperiod = 14)\n",
    "array_length = len(rsi_ind)\n",
    "last_element = rsi_ind[- 1]\n",
    "last_rsi = last_element\n",
    "array_length3 = len(close)\n",
    "last_element3 = close[-1]\n",
    "last_price = last_element3\n",
    "price = mt5.symbol_info_tick(simbolo).ask\n",
    "deviation = 20"
   ]
  },
  {
   "cell_type": "code",
   "execution_count": 18,
   "metadata": {},
   "outputs": [],
   "source": [
    "# Estudar IC para sugerir como TP e SL"
   ]
  },
  {
   "cell_type": "code",
   "execution_count": 26,
   "metadata": {},
   "outputs": [
    {
     "name": "stdout",
     "output_type": "stream",
     "text": [
      "Aguardand o sinal do Mercado\n"
     ]
    }
   ],
   "source": [
    "# Tomada de decisao e envio de ordem\n",
    "# Se o ultimo valor do RSI for maior que 70, envia ordem de Venda\n",
    "\n",
    "if last_rsi > 70  :\n",
    "    request = {\n",
    "            \"action\": mt5.TRADE_ACTION_DEAL,\n",
    "            \"symbol\": simbolo,\n",
    "            \"volume\": lote,\n",
    "            \"type\": mt5.ORDER_TYPE_SELL,\n",
    "            \"sl\": price - 0.002,\n",
    "            \"tp\": price + 0.005,\n",
    "            \"deviation\": deviation,\n",
    "            \"magic\": 202003,\n",
    "            \"comment\": \"BotPython - RSI\",\n",
    "            \"type_time\": mt5.ORDER_TIME_GTC,\n",
    "            \"type_filling\": mt5.ORDER_FILLING_IOC}\n",
    "    print('Uma ordem de Venda foi enviada')\n",
    "    mt5.order_send(request)\n",
    "elif 30 > last_rsi :\n",
    "    request = {\n",
    "            \"action\": mt5.TRADE_ACTION_DEAL,\n",
    "            \"symbol\": simbolo,\n",
    "            \"volume\": lote,\n",
    "            \"type\": mt5.ORDER_TYPE_BUY,\n",
    "            \"sl\": price + 0.002,\n",
    "            \"tp\": price - 0.005,\n",
    "            \"deviation\": deviation,\n",
    "            \"magic\": 202003,\n",
    "            \"comment\": \"BotPython - RSI\",\n",
    "            \"type_time\": mt5.ORDER_TIME_GTC,\n",
    "            \"type_filling\": mt5.ORDER_FILLING_IOC}\n",
    "    print('Uma ordem de Compra foi enviada')\n",
    "    mt5.order_send(request)\n",
    "\n",
    "else:\n",
    "    print('Aguardand o sinal do Mercado')"
   ]
  }
 ],
 "metadata": {
  "interpreter": {
   "hash": "4694ae3a9d7dbaf98853dea745ff6957091f9b44ba85ef18dd502da0e0c67bb3"
  },
  "kernelspec": {
   "display_name": "Python 3.7.10 ('base')",
   "language": "python",
   "name": "python3"
  },
  "language_info": {
   "codemirror_mode": {
    "name": "ipython",
    "version": 3
   },
   "file_extension": ".py",
   "mimetype": "text/x-python",
   "name": "python",
   "nbconvert_exporter": "python",
   "pygments_lexer": "ipython3",
   "version": "3.7.10"
  },
  "orig_nbformat": 4
 },
 "nbformat": 4,
 "nbformat_minor": 2
}
