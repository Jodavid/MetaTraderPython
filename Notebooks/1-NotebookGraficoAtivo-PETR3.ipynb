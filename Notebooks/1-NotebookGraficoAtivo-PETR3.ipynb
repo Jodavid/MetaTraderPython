{
 "cells": [
  {
   "cell_type": "code",
   "execution_count": null,
   "metadata": {},
   "outputs": [],
   "source": [
    "# Notebook criado para o desenvolvimento de gráficos do ativo PETR3\n",
    "#\n",
    "# Objetivo: Conexao com o MetaTrader 5, e criar gráficos para o ativo PETR3\n",
    "#           para o desenvolvimento de estratégias de trading."
   ]
  },
  {
   "cell_type": "code",
   "execution_count": 1,
   "metadata": {},
   "outputs": [],
   "source": [
    "# Lendo as bibliotecas necessarias\n",
    "import MetaTrader5 as mt5\n",
    "import matplotlib.pyplot as plt\n",
    "import pandas as pd\n",
    "from datetime import datetime\n",
    "from pandas.plotting import register_matplotlib_converters\n",
    "register_matplotlib_converters()"
   ]
  },
  {
   "cell_type": "code",
   "execution_count": 2,
   "metadata": {},
   "outputs": [
    {
     "name": "stdout",
     "output_type": "stream",
     "text": [
      "TerminalInfo(community_account=False, community_connection=False, connected=True, dlls_allowed=True, trade_allowed=False, tradeapi_disabled=False, email_enabled=False, ftp_enabled=False, notifications_enabled=True, mqid=True, build=3300, maxbars=100000, codepage=1252, ping_last=71962, community_balance=0.0, retransmission=0.0, company='MetaQuotes Software Corp.', name='MetaTrader 5', language='Portuguese (Brazil)', path='C:\\\\Program Files\\\\MetaTrader 5', ...)\n",
      "(500, 3300, '20 May 2022')\n"
     ]
    }
   ],
   "source": [
    "# Conectando ao MetaTrader 5\n",
    "# Utilizando os logins atuais do Software\n",
    "if not mt5.initialize():\n",
    "    print(\"initialize() falhou\")\n",
    "    mt5.shutdown()\n",
    "# Consultamos o estado e os parâmetros de conexão\n",
    "print(mt5.terminal_info())\n",
    "# Obtemos informações sobre a versão do MetaTrader 5\n",
    "print(mt5.version())"
   ]
  },
  {
   "cell_type": "code",
   "execution_count": 5,
   "metadata": {},
   "outputs": [],
   "source": [
    "# Simbolo selecionado para grafico\n",
    "simbolo = \"PETR3\""
   ]
  },
  {
   "cell_type": "code",
   "execution_count": 7,
   "metadata": {},
   "outputs": [],
   "source": [
    "# Obtendo as informacoes do ativo de tamanho 1000, considerando a data de hoje e o Timframe de H1 = 1 hora;\n",
    "ValoresAtivo = mt5.copy_rates_from_pos(simbolo, mt5.TIMEFRAME_H1, 0, 1000)\n",
    "ValoresAtivo_PD = pd.DataFrame(ValoresAtivo) # Conversao em pandas\n",
    "ValoresAtivo_PD['time'] = pd.to_datetime(ValoresAtivo_PD['time'], unit='s')"
   ]
  },
  {
   "cell_type": "code",
   "execution_count": 8,
   "metadata": {},
   "outputs": [
    {
     "data": {
      "text/html": [
       "<div>\n",
       "<style scoped>\n",
       "    .dataframe tbody tr th:only-of-type {\n",
       "        vertical-align: middle;\n",
       "    }\n",
       "\n",
       "    .dataframe tbody tr th {\n",
       "        vertical-align: top;\n",
       "    }\n",
       "\n",
       "    .dataframe thead th {\n",
       "        text-align: right;\n",
       "    }\n",
       "</style>\n",
       "<table border=\"1\" class=\"dataframe\">\n",
       "  <thead>\n",
       "    <tr style=\"text-align: right;\">\n",
       "      <th></th>\n",
       "      <th>time</th>\n",
       "      <th>open</th>\n",
       "      <th>high</th>\n",
       "      <th>low</th>\n",
       "      <th>close</th>\n",
       "      <th>tick_volume</th>\n",
       "      <th>spread</th>\n",
       "      <th>real_volume</th>\n",
       "    </tr>\n",
       "  </thead>\n",
       "  <tbody>\n",
       "    <tr>\n",
       "      <th>995</th>\n",
       "      <td>2022-05-23 13:00:00</td>\n",
       "      <td>38.59</td>\n",
       "      <td>38.65</td>\n",
       "      <td>38.47</td>\n",
       "      <td>38.65</td>\n",
       "      <td>4395</td>\n",
       "      <td>1</td>\n",
       "      <td>1463900</td>\n",
       "    </tr>\n",
       "    <tr>\n",
       "      <th>996</th>\n",
       "      <td>2022-05-23 14:00:00</td>\n",
       "      <td>38.65</td>\n",
       "      <td>38.86</td>\n",
       "      <td>38.55</td>\n",
       "      <td>38.83</td>\n",
       "      <td>4612</td>\n",
       "      <td>1</td>\n",
       "      <td>1978500</td>\n",
       "    </tr>\n",
       "    <tr>\n",
       "      <th>997</th>\n",
       "      <td>2022-05-23 15:00:00</td>\n",
       "      <td>38.85</td>\n",
       "      <td>39.11</td>\n",
       "      <td>38.81</td>\n",
       "      <td>39.07</td>\n",
       "      <td>4654</td>\n",
       "      <td>1</td>\n",
       "      <td>2693000</td>\n",
       "    </tr>\n",
       "    <tr>\n",
       "      <th>998</th>\n",
       "      <td>2022-05-23 16:00:00</td>\n",
       "      <td>39.07</td>\n",
       "      <td>39.28</td>\n",
       "      <td>39.06</td>\n",
       "      <td>39.19</td>\n",
       "      <td>5717</td>\n",
       "      <td>1</td>\n",
       "      <td>3151000</td>\n",
       "    </tr>\n",
       "    <tr>\n",
       "      <th>999</th>\n",
       "      <td>2022-05-23 17:00:00</td>\n",
       "      <td>39.06</td>\n",
       "      <td>39.25</td>\n",
       "      <td>39.05</td>\n",
       "      <td>39.25</td>\n",
       "      <td>313</td>\n",
       "      <td>0</td>\n",
       "      <td>1677300</td>\n",
       "    </tr>\n",
       "  </tbody>\n",
       "</table>\n",
       "</div>"
      ],
      "text/plain": [
       "                   time   open   high    low  close  tick_volume  spread  \\\n",
       "995 2022-05-23 13:00:00  38.59  38.65  38.47  38.65         4395       1   \n",
       "996 2022-05-23 14:00:00  38.65  38.86  38.55  38.83         4612       1   \n",
       "997 2022-05-23 15:00:00  38.85  39.11  38.81  39.07         4654       1   \n",
       "998 2022-05-23 16:00:00  39.07  39.28  39.06  39.19         5717       1   \n",
       "999 2022-05-23 17:00:00  39.06  39.25  39.05  39.25          313       0   \n",
       "\n",
       "     real_volume  \n",
       "995      1463900  \n",
       "996      1978500  \n",
       "997      2693000  \n",
       "998      3151000  \n",
       "999      1677300  "
      ]
     },
     "execution_count": 8,
     "metadata": {},
     "output_type": "execute_result"
    }
   ],
   "source": [
    "# Verificando um o tail() dos valores\n",
    "ValoresAtivo_PD.tail()"
   ]
  },
  {
   "cell_type": "code",
   "execution_count": 9,
   "metadata": {},
   "outputs": [
    {
     "data": {
      "image/png": "[encoded data removed]",
      "text/plain": [
       "<Figure size 432x288 with 1 Axes>"
      ]
     },
     "metadata": {
      "needs_background": "light"
     },
     "output_type": "display_data"
    }
   ],
   "source": [
    "# Gerando o gráfico\n",
    "plt.plot(ValoresAtivo_PD['time'], ValoresAtivo_PD['close'], 'r-', label='Fechamento')\n",
    " \n",
    "# exibimos rótulos\n",
    "plt.legend(loc='upper left')\n",
    " \n",
    "# adicionamos cabeçalho\n",
    "plt.title('PETR3 - Preço Fechamento')\n",
    " \n",
    "# mostramos o gráfico\n",
    "plt.show()"
   ]
  },
  {
   "cell_type": "code",
   "execution_count": 55,
   "metadata": {},
   "outputs": [],
   "source": [
    "# Solicitando os Ticks diario do PETR3\n",
    "ValoresAtivosTicks = mt5.copy_ticks_from(simbolo, datetime(2022,5,23,10), 30000, mt5.COPY_TICKS_ALL)"
   ]
  },
  {
   "cell_type": "code",
   "execution_count": 56,
   "metadata": {},
   "outputs": [],
   "source": [
    "# Convertendo em pandas e em as datas em formato datetime\n",
    "ValoresAtivosTicks_PD = pd.DataFrame(ValoresAtivosTicks)\n",
    "ValoresAtivosTicks_PD['time']=pd.to_datetime(ValoresAtivosTicks_PD['time'], unit='s')"
   ]
  },
  {
   "cell_type": "code",
   "execution_count": 57,
   "metadata": {},
   "outputs": [
    {
     "data": {
      "text/html": [
       "<div>\n",
       "<style scoped>\n",
       "    .dataframe tbody tr th:only-of-type {\n",
       "        vertical-align: middle;\n",
       "    }\n",
       "\n",
       "    .dataframe tbody tr th {\n",
       "        vertical-align: top;\n",
       "    }\n",
       "\n",
       "    .dataframe thead th {\n",
       "        text-align: right;\n",
       "    }\n",
       "</style>\n",
       "<table border=\"1\" class=\"dataframe\">\n",
       "  <thead>\n",
       "    <tr style=\"text-align: right;\">\n",
       "      <th></th>\n",
       "      <th>time</th>\n",
       "      <th>bid</th>\n",
       "      <th>ask</th>\n",
       "      <th>last</th>\n",
       "      <th>volume</th>\n",
       "      <th>time_msc</th>\n",
       "      <th>flags</th>\n",
       "      <th>volume_real</th>\n",
       "    </tr>\n",
       "  </thead>\n",
       "  <tbody>\n",
       "    <tr>\n",
       "      <th>26734</th>\n",
       "      <td>2022-05-23 17:59:48</td>\n",
       "      <td>39.10</td>\n",
       "      <td>39.28</td>\n",
       "      <td>39.25</td>\n",
       "      <td>800</td>\n",
       "      <td>1653328788650</td>\n",
       "      <td>2</td>\n",
       "      <td>800.0</td>\n",
       "    </tr>\n",
       "    <tr>\n",
       "      <th>26735</th>\n",
       "      <td>2022-05-23 17:59:53</td>\n",
       "      <td>39.11</td>\n",
       "      <td>39.28</td>\n",
       "      <td>39.25</td>\n",
       "      <td>800</td>\n",
       "      <td>1653328793967</td>\n",
       "      <td>2</td>\n",
       "      <td>800.0</td>\n",
       "    </tr>\n",
       "    <tr>\n",
       "      <th>26736</th>\n",
       "      <td>2022-05-23 17:59:55</td>\n",
       "      <td>39.11</td>\n",
       "      <td>39.27</td>\n",
       "      <td>39.25</td>\n",
       "      <td>800</td>\n",
       "      <td>1653328795492</td>\n",
       "      <td>4</td>\n",
       "      <td>800.0</td>\n",
       "    </tr>\n",
       "    <tr>\n",
       "      <th>26737</th>\n",
       "      <td>2022-05-23 18:30:00</td>\n",
       "      <td>39.11</td>\n",
       "      <td>39.27</td>\n",
       "      <td>39.25</td>\n",
       "      <td>800</td>\n",
       "      <td>1653330600450</td>\n",
       "      <td>6</td>\n",
       "      <td>800.0</td>\n",
       "    </tr>\n",
       "    <tr>\n",
       "      <th>26738</th>\n",
       "      <td>2022-05-23 18:33:25</td>\n",
       "      <td>39.11</td>\n",
       "      <td>39.27</td>\n",
       "      <td>39.25</td>\n",
       "      <td>800</td>\n",
       "      <td>1653330805310</td>\n",
       "      <td>6</td>\n",
       "      <td>800.0</td>\n",
       "    </tr>\n",
       "  </tbody>\n",
       "</table>\n",
       "</div>"
      ],
      "text/plain": [
       "                     time    bid    ask   last  volume       time_msc  flags  \\\n",
       "26734 2022-05-23 17:59:48  39.10  39.28  39.25     800  1653328788650      2   \n",
       "26735 2022-05-23 17:59:53  39.11  39.28  39.25     800  1653328793967      2   \n",
       "26736 2022-05-23 17:59:55  39.11  39.27  39.25     800  1653328795492      4   \n",
       "26737 2022-05-23 18:30:00  39.11  39.27  39.25     800  1653330600450      6   \n",
       "26738 2022-05-23 18:33:25  39.11  39.27  39.25     800  1653330805310      6   \n",
       "\n",
       "       volume_real  \n",
       "26734        800.0  \n",
       "26735        800.0  \n",
       "26736        800.0  \n",
       "26737        800.0  \n",
       "26738        800.0  "
      ]
     },
     "execution_count": 57,
     "metadata": {},
     "output_type": "execute_result"
    }
   ],
   "source": [
    "# Verificando um o tail() dos valores\n",
    "ValoresAtivosTicks_PD.tail()"
   ]
  },
  {
   "cell_type": "code",
   "execution_count": 58,
   "metadata": {},
   "outputs": [
    {
     "data": {
      "image/png": "[encoded data removed]",
      "text/plain": [
       "<Figure size 432x288 with 1 Axes>"
      ]
     },
     "metadata": {
      "needs_background": "light"
     },
     "output_type": "display_data"
    }
   ],
   "source": [
    "# Gerando o gráfico\n",
    "plt.plot(ValoresAtivosTicks_PD['time'], ValoresAtivosTicks_PD['ask'], 'r-', label='ask')\n",
    "plt.plot(ValoresAtivosTicks_PD['time'], ValoresAtivosTicks_PD['bid'], 'b-', label='bid')\n",
    " \n",
    "# exibimos rótulos\n",
    "plt.legend(loc='upper left')\n",
    " \n",
    "# adicionamos cabeçalho\n",
    "plt.title('Ticks PETR3')\n",
    " \n",
    "# mostramos o gráfico\n",
    "plt.show()"
   ]
  },
  {
   "cell_type": "code",
   "execution_count": null,
   "metadata": {},
   "outputs": [],
   "source": []
  }
 ],
 "metadata": {
  "interpreter": {
   "hash": "4694ae3a9d7dbaf98853dea745ff6957091f9b44ba85ef18dd502da0e0c67bb3"
  },
  "kernelspec": {
   "display_name": "Python 3.7.10 ('base')",
   "language": "python",
   "name": "python3"
  },
  "language_info": {
   "codemirror_mode": {
    "name": "ipython",
    "version": 3
   },
   "file_extension": ".py",
   "mimetype": "text/x-python",
   "name": "python",
   "nbconvert_exporter": "python",
   "pygments_lexer": "ipython3",
   "version": "3.7.10"
  },
  "orig_nbformat": 4
 },
 "nbformat": 4,
 "nbformat_minor": 2
}
